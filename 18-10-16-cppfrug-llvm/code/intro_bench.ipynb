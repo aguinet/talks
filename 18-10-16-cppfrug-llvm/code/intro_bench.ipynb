{
 "cells": [
  {
   "cell_type": "code",
   "execution_count": 1,
   "metadata": {},
   "outputs": [
    {
     "name": "stdout",
     "output_type": "stream",
     "text": [
      "\u001b[36m#\u001b[39;49;00m\u001b[36minclude\u001b[39;49;00m \u001b[37m<stdint.h>\u001b[39;49;00m\u001b[36m\u001b[39;49;00m\r\n",
      "\u001b[36m#\u001b[39;49;00m\u001b[36minclude\u001b[39;49;00m \u001b[37m<stdlib.h>\u001b[39;49;00m\u001b[36m\u001b[39;49;00m\r\n",
      "\r\n",
      "\u001b[36mvoid\u001b[39;49;00m \u001b[32madd\u001b[39;49;00m(\u001b[36muint32_t\u001b[39;49;00m* res, \u001b[36muint32_t\u001b[39;49;00m \u001b[34mconst\u001b[39;49;00m* a, \u001b[36muint32_t\u001b[39;49;00m \u001b[34mconst\u001b[39;49;00m* b, \u001b[36msize_t\u001b[39;49;00m n) {\r\n",
      "  \u001b[34mfor\u001b[39;49;00m (\u001b[36msize_t\u001b[39;49;00m i= \u001b[34m0\u001b[39;49;00m; i < n; ++i) {\r\n",
      "    res[i] = a[i] + b[i];\r\n",
      "  }\r\n",
      "}\r\n"
     ]
    }
   ],
   "source": [
    "!pygmentize add.c\n",
    "!clang-4.0 add.c -O2 -march=native -fPIC -shared -o add.so"
   ]
  },
  {
   "cell_type": "code",
   "execution_count": 2,
   "metadata": {},
   "outputs": [],
   "source": [
    "import pydffi\n",
    "import os\n",
    "pydffi.dlopen(os.path.join(os.getcwd(), \"add.so\"))\n",
    "FFI = pydffi.FFI()\n",
    "CU = FFI.cdef('''\n",
    "#include <stdint.h>\n",
    "#include <stdlib.h>\n",
    "void add(uint32_t* res, uint32_t const* a, uint32_t const* b, size_t n);\n",
    "''')\n",
    "add_c = CU.funcs.add"
   ]
  },
  {
   "cell_type": "code",
   "execution_count": 4,
   "metadata": {},
   "outputs": [],
   "source": [
    "import numpy as np\n",
    "N = 200000\n",
    "a = np.random.randint(2**32, size=N, dtype=np.uint32)\n",
    "b = np.random.randint(2**32, size=N, dtype=np.uint32)"
   ]
  },
  {
   "cell_type": "code",
   "execution_count": 4,
   "metadata": {},
   "outputs": [
    {
     "name": "stdout",
     "output_type": "stream",
     "text": [
      "50.5 µs ± 13.8 µs per loop (mean ± std. dev. of 7 runs, 10000 loops each)\n"
     ]
    }
   ],
   "source": [
    "res = np.ndarray(N, dtype=np.uint32)\n",
    "arTy = FFI.arrayType(FFI.UInt32Ty, N)\n",
    "carTy = pydffi.const(arTy)\n",
    "cres = pydffi.ptr(pydffi.view_as(arTy, res))\n",
    "ca = pydffi.ptr(pydffi.view_as(carTy, a))\n",
    "cb = pydffi.ptr(pydffi.view_as(carTy,b))\n",
    "%timeit add_c(cres, ca, cb, N)"
   ]
  },
  {
   "cell_type": "code",
   "execution_count": 1,
   "metadata": {},
   "outputs": [],
   "source": [
    "%reload_ext pythran.magic"
   ]
  },
  {
   "cell_type": "code",
   "execution_count": 2,
   "metadata": {},
   "outputs": [
    {
     "name": "stderr",
     "output_type": "stream",
     "text": [
      "/usr/bin/ld: cannot find -lcblas\n",
      "collect2: error: ld returned 1 exit status\n",
      "/usr/bin/ld: cannot find -lcblas\n",
      "collect2: error: ld returned 1 exit status\n"
     ]
    },
    {
     "name": "stdout",
     "output_type": "stream",
     "text": [
      "In file included from /tmp/tmpm_pynkz9.cpp:2:\n",
      "In file included from /home/aguinet/.virtualenvs/fixcompilerbug/lib/python3.6/site-packages/pythran/pythonic/core.hpp:20:\n",
      "In file included from /home/aguinet/.virtualenvs/fixcompilerbug/lib/python3.6/site-packages/pythran/pythonic/types/combined.hpp:4:\n",
      "In file included from /home/aguinet/.virtualenvs/fixcompilerbug/lib/python3.6/site-packages/pythran/pythonic/include/types/combined.hpp:4:\n",
      "In file included from /home/aguinet/.virtualenvs/fixcompilerbug/lib/python3.6/site-packages/pythran/pythonic/include/types/traits.hpp:4:\n",
      "In file included from /usr/lib/gcc/x86_64-linux-gnu/8/../../../../include/c++/8/complex:45:\n",
      "In file included from /usr/lib/gcc/x86_64-linux-gnu/8/../../../../include/c++/8/sstream:38:\n",
      "In file included from /usr/lib/gcc/x86_64-linux-gnu/8/../../../../include/c++/8/istream:38:\n",
      "In file included from /usr/lib/gcc/x86_64-linux-gnu/8/../../../../include/c++/8/ios:40:\n",
      "In file included from /usr/lib/gcc/x86_64-linux-gnu/8/../../../../include/c++/8/bits/char_traits.h:39:\n",
      "/usr/lib/gcc/x86_64-linux-gnu/8/../../../../include/c++/8/bits/stl_algobase.h:322:4: remark: loop not vectorized [-Rpass-missed=loop-vectorize]\n",
      "          for(_Distance __n = __last - __first; __n > 0; --__n)\n",
      "          ^\n",
      "In file included from /tmp/tmpm_pynkz9.cpp:11:\n",
      "In file included from /home/aguinet/.virtualenvs/fixcompilerbug/lib/python3.6/site-packages/pythran/pythonic/types/ndarray.hpp:16:\n",
      "/home/aguinet/.virtualenvs/fixcompilerbug/lib/python3.6/site-packages/pythran/pythonic/utils/broadcast_copy.hpp:77:9: remark: loop not vectorized [-Rpass-missed=loop-vectorize]\n",
      "        for (long i = other_size; i < self_size; i += other_size)\n",
      "        ^\n",
      "In file included from /tmp/tmpm_pynkz9.cpp:2:\n",
      "In file included from /home/aguinet/.virtualenvs/fixcompilerbug/lib/python3.6/site-packages/pythran/pythonic/core.hpp:20:\n",
      "In file included from /home/aguinet/.virtualenvs/fixcompilerbug/lib/python3.6/site-packages/pythran/pythonic/types/combined.hpp:4:\n",
      "In file included from /home/aguinet/.virtualenvs/fixcompilerbug/lib/python3.6/site-packages/pythran/pythonic/include/types/combined.hpp:4:\n",
      "In file included from /home/aguinet/.virtualenvs/fixcompilerbug/lib/python3.6/site-packages/pythran/pythonic/include/types/traits.hpp:4:\n",
      "In file included from /usr/lib/gcc/x86_64-linux-gnu/8/../../../../include/c++/8/complex:45:\n",
      "In file included from /usr/lib/gcc/x86_64-linux-gnu/8/../../../../include/c++/8/sstream:38:\n",
      "In file included from /usr/lib/gcc/x86_64-linux-gnu/8/../../../../include/c++/8/istream:38:\n",
      "In file included from /usr/lib/gcc/x86_64-linux-gnu/8/../../../../include/c++/8/ios:40:\n",
      "In file included from /usr/lib/gcc/x86_64-linux-gnu/8/../../../../include/c++/8/bits/char_traits.h:39:\n",
      "/usr/lib/gcc/x86_64-linux-gnu/8/../../../../include/c++/8/bits/stl_algobase.h:322:4: remark: loop not vectorized [-Rpass-missed=loop-vectorize]\n",
      "          for(_Distance __n = __last - __first; __n > 0; --__n)\n",
      "          ^\n",
      "In file included from /tmp/tmpm_pynkz9.cpp:11:\n",
      "In file included from /home/aguinet/.virtualenvs/fixcompilerbug/lib/python3.6/site-packages/pythran/pythonic/types/ndarray.hpp:16:\n",
      "/home/aguinet/.virtualenvs/fixcompilerbug/lib/python3.6/site-packages/pythran/pythonic/utils/broadcast_copy.hpp:77:9: remark: loop not vectorized [-Rpass-missed=loop-vectorize]\n",
      "        for (long i = other_size; i < self_size; i += other_size)\n",
      "        ^\n",
      "In file included from /tmp/tmpm_pynkz9.cpp:2:\n",
      "In file included from /home/aguinet/.virtualenvs/fixcompilerbug/lib/python3.6/site-packages/pythran/pythonic/core.hpp:22:\n",
      "In file included from /home/aguinet/.virtualenvs/fixcompilerbug/lib/python3.6/site-packages/pythran/pythonic/types/int.hpp:4:\n",
      "In file included from /home/aguinet/.virtualenvs/fixcompilerbug/lib/python3.6/site-packages/pythran/pythonic/include/types/int.hpp:6:\n",
      "/home/aguinet/.virtualenvs/fixcompilerbug/lib/python3.6/site-packages/pythran/pythonic/python/core.hpp:141:5: remark: loop not vectorized [-Rpass-missed=loop-vectorize]\n",
      "    for (long n = PyTuple_GET_SIZE(args), i = 0; i < n; ++i) {\n",
      "    ^\n",
      "/home/aguinet/.virtualenvs/fixcompilerbug/lib/python3.6/site-packages/pythran/pythonic/python/core.hpp:151:7: remark: loop not vectorized [-Rpass-missed=loop-vectorize]\n",
      "      for (int next = PyDict_Next(kwargs, &pos, &key, &value); next;) {\n",
      "      ^\n",
      "In file included from /tmp/tmpm_pynkz9.cpp:11:\n",
      "In file included from /home/aguinet/.virtualenvs/fixcompilerbug/lib/python3.6/site-packages/pythran/pythonic/types/ndarray.hpp:10:\n",
      "In file included from /home/aguinet/.virtualenvs/fixcompilerbug/lib/python3.6/site-packages/pythran/pythonic/__builtin__/ValueError.hpp:6:\n",
      "In file included from /home/aguinet/.virtualenvs/fixcompilerbug/lib/python3.6/site-packages/pythran/pythonic/types/exceptions.hpp:7:\n",
      "/home/aguinet/.virtualenvs/fixcompilerbug/lib/python3.6/site-packages/pythran/pythonic/types/list.hpp:334:7: remark: loop not vectorized [-Rpass-missed=loop-vectorize]\n",
      "      while (iter + 1 != v.end())\n",
      "      ^\n",
      "In file included from /tmp/tmpm_pynkz9.cpp:2:\n",
      "In file included from /home/aguinet/.virtualenvs/fixcompilerbug/lib/python3.6/site-packages/pythran/pythonic/core.hpp:22:\n",
      "In file included from /home/aguinet/.virtualenvs/fixcompilerbug/lib/python3.6/site-packages/pythran/pythonic/types/int.hpp:4:\n",
      "In file included from /home/aguinet/.virtualenvs/fixcompilerbug/lib/python3.6/site-packages/pythran/pythonic/include/types/int.hpp:6:\n",
      "/home/aguinet/.virtualenvs/fixcompilerbug/lib/python3.6/site-packages/pythran/pythonic/python/core.hpp:61:7: remark: loop not vectorized [-Rpass-missed=loop-vectorize]\n",
      "      for (long n = PyTuple_GET_SIZE(obj), i = 0; i < n; ++i) {\n",
      "      ^\n",
      "/home/aguinet/.virtualenvs/fixcompilerbug/lib/python3.6/site-packages/pythran/pythonic/python/core.hpp:76:7: remark: loop not vectorized [-Rpass-missed=loop-vectorize]\n",
      "      for (int i = 0, n = PyArray_NDIM(arr); i < n; ++i) {\n",
      "      ^\n",
      "/home/aguinet/.virtualenvs/fixcompilerbug/lib/python3.6/site-packages/pythran/pythonic/python/core.hpp:92:9: remark: loop not vectorized [-Rpass-missed=loop-vectorize]\n",
      "        for (long i = PyArray_NDIM(arr) - 1; i >= 0; i--) {\n",
      "        ^\n"
     ]
    }
   ],
   "source": [
    "%%pythran -O2 -march=native\n",
    "#pythran export add_pythran(uint32[],uint32[])\n",
    "def add_pythran(a,b):\n",
    "    return a+b"
   ]
  },
  {
   "cell_type": "code",
   "execution_count": 5,
   "metadata": {},
   "outputs": [
    {
     "name": "stdout",
     "output_type": "stream",
     "text": [
      "117 µs ± 11.5 µs per loop (mean ± std. dev. of 7 runs, 10000 loops each)\n"
     ]
    }
   ],
   "source": [
    "%timeit add_pythran(a,b)"
   ]
  },
  {
   "cell_type": "code",
   "execution_count": null,
   "metadata": {},
   "outputs": [],
   "source": [
    "# Back to slides"
   ]
  },
  {
   "cell_type": "code",
   "execution_count": 8,
   "metadata": {},
   "outputs": [
    {
     "name": "stdout",
     "output_type": "stream",
     "text": [
      "\u001b[1madd.c:5:3: \u001b[0m\u001b[0;1;34mremark: \u001b[0m\u001b[1mvectorized loop\r\n",
      "      (vectorization width: 8, interleaved count: 4) [-Rpass=loop-vectorize]\u001b[0m\r\n",
      "  for (size_t i= 0; i < n; ++i) {\r\n",
      "\u001b[0;1;32m  ^\r\n",
      "\u001b[0m"
     ]
    }
   ],
   "source": [
    "!clang-4.0 -Rpass=loop-vectorize -Rpass-missed=loop-vectorize -Rpass-analysis=loop-vectorize add.c -O2 -march=native -c -o /dev/null"
   ]
  },
  {
   "cell_type": "code",
   "execution_count": 9,
   "metadata": {},
   "outputs": [],
   "source": [
    "!pythran -E add.py "
   ]
  },
  {
   "cell_type": "code",
   "execution_count": 10,
   "metadata": {},
   "outputs": [
    {
     "name": "stdout",
     "output_type": "stream",
     "text": [
      "\u001b[36m#\u001b[39;49;00m\u001b[36mdefine BOOST_SIMD_NO_STRICT_ALIASING 1\u001b[39;49;00m\u001b[36m\u001b[39;49;00m\r\n",
      "\u001b[36m#\u001b[39;49;00m\u001b[36minclude\u001b[39;49;00m \u001b[37m<pythonic/core.hpp>\u001b[39;49;00m\u001b[36m\u001b[39;49;00m\r\n",
      "\u001b[36m#\u001b[39;49;00m\u001b[36minclude\u001b[39;49;00m \u001b[37m<pythonic/python/core.hpp>\u001b[39;49;00m\u001b[36m\u001b[39;49;00m\r\n",
      "\u001b[36m#\u001b[39;49;00m\u001b[36minclude\u001b[39;49;00m \u001b[37m<pythonic/types/bool.hpp>\u001b[39;49;00m\u001b[36m\u001b[39;49;00m\r\n",
      "\u001b[36m#\u001b[39;49;00m\u001b[36minclude\u001b[39;49;00m \u001b[37m<pythonic/types/int.hpp>\u001b[39;49;00m\u001b[36m\u001b[39;49;00m\r\n",
      "\u001b[36m#\u001b[39;49;00m\u001b[36mifdef _OPENMP\u001b[39;49;00m\u001b[36m\u001b[39;49;00m\r\n",
      "\u001b[36m#\u001b[39;49;00m\u001b[36minclude\u001b[39;49;00m \u001b[37m<omp.h>\u001b[39;49;00m\u001b[36m\u001b[39;49;00m\r\n",
      "\u001b[36m#\u001b[39;49;00m\u001b[36mendif\u001b[39;49;00m\u001b[36m\u001b[39;49;00m\r\n",
      "\u001b[36m#\u001b[39;49;00m\u001b[36minclude\u001b[39;49;00m \u001b[37m<pythonic/include/types/uint32.hpp>\u001b[39;49;00m\u001b[36m\u001b[39;49;00m\r\n",
      "\u001b[36m#\u001b[39;49;00m\u001b[36minclude\u001b[39;49;00m \u001b[37m<pythonic/include/types/ndarray.hpp>\u001b[39;49;00m\u001b[36m\u001b[39;49;00m\r\n",
      "\u001b[36m#\u001b[39;49;00m\u001b[36minclude\u001b[39;49;00m \u001b[37m<pythonic/types/ndarray.hpp>\u001b[39;49;00m\u001b[36m\u001b[39;49;00m\r\n",
      "\u001b[36m#\u001b[39;49;00m\u001b[36minclude\u001b[39;49;00m \u001b[37m<pythonic/types/uint32.hpp>\u001b[39;49;00m\u001b[36m\u001b[39;49;00m\r\n",
      "\u001b[36m#\u001b[39;49;00m\u001b[36minclude\u001b[39;49;00m \u001b[37m<pythonic/include/operator_/add.hpp>\u001b[39;49;00m\u001b[36m\u001b[39;49;00m\r\n",
      "\u001b[36m#\u001b[39;49;00m\u001b[36minclude\u001b[39;49;00m \u001b[37m<pythonic/operator_/add.hpp>\u001b[39;49;00m\u001b[36m\u001b[39;49;00m\r\n",
      "\u001b[34mnamespace\u001b[39;49;00m __pythran_add\r\n",
      "{\r\n",
      "  \u001b[34mstruct\u001b[39;49;00m add\r\n",
      "  {\r\n",
      "    \u001b[34mtypedef\u001b[39;49;00m \u001b[36mvoid\u001b[39;49;00m callable;\r\n",
      "    \u001b[34mtypedef\u001b[39;49;00m \u001b[36mvoid\u001b[39;49;00m pure;\r\n",
      "    \u001b[34mtemplate\u001b[39;49;00m <\u001b[34mtypename\u001b[39;49;00m argument_type0 , \u001b[34mtypename\u001b[39;49;00m argument_type1 >\r\n",
      "    \u001b[34mstruct\u001b[39;49;00m type\r\n",
      "    {\r\n",
      "      \u001b[34mtypedef\u001b[39;49;00m \u001b[34mtypename\u001b[39;49;00m std::remove_cv<\u001b[34mtypename\u001b[39;49;00m std::remove_reference<argument_type0>::type>::type __type0;\r\n",
      "      \u001b[34mtypedef\u001b[39;49;00m \u001b[34mtypename\u001b[39;49;00m std::remove_cv<\u001b[34mtypename\u001b[39;49;00m std::remove_reference<argument_type1>::type>::type __type1;\r\n",
      "      \u001b[34mtypedef\u001b[39;49;00m \u001b[34mtypename\u001b[39;49;00m pythonic::returnable<\u001b[34mdecltype\u001b[39;49;00m((pythonic::operator_::add(std::declval<__type0>(), std::declval<__type1>())))>::type result_type;\r\n",
      "    }  \r\n",
      "    ;\r\n",
      "    \u001b[34mtemplate\u001b[39;49;00m <\u001b[34mtypename\u001b[39;49;00m argument_type0 , \u001b[34mtypename\u001b[39;49;00m argument_type1 >\r\n",
      "    \u001b[34mtypename\u001b[39;49;00m type<argument_type0, argument_type1>::result_type \u001b[34moperator\u001b[39;49;00m()(argument_type0&& a, argument_type1&& b) \u001b[34mconst\u001b[39;49;00m\r\n",
      "    ;\r\n",
      "  }  ;\r\n",
      "  \u001b[34mtemplate\u001b[39;49;00m <\u001b[34mtypename\u001b[39;49;00m argument_type0 , \u001b[34mtypename\u001b[39;49;00m argument_type1 >\r\n",
      "  \u001b[34mtypename\u001b[39;49;00m add::type<argument_type0, argument_type1>::result_type add::\u001b[34moperator\u001b[39;49;00m()(argument_type0&& a, argument_type1&& b) \u001b[34mconst\u001b[39;49;00m\r\n",
      "  {\r\n",
      "    \u001b[34mreturn\u001b[39;49;00m (pythonic::operator_::add(a, b));\r\n",
      "  }\r\n",
      "}\r\n",
      "\u001b[36m#\u001b[39;49;00m\u001b[36minclude\u001b[39;49;00m \u001b[37m<pythonic/python/exception_handler.hpp>\u001b[39;49;00m\u001b[36m\u001b[39;49;00m\r\n",
      "\u001b[36m#\u001b[39;49;00m\u001b[36mifdef ENABLE_PYTHON_MODULE\u001b[39;49;00m\u001b[36m\u001b[39;49;00m\r\n",
      "\u001b[34mtypename\u001b[39;49;00m __pythran_add::add::type<pythonic::types::ndarray<\u001b[36muint32_t\u001b[39;49;00m,pythonic::types::pshape<\u001b[36mlong\u001b[39;49;00m>>, pythonic::types::ndarray<\u001b[36muint32_t\u001b[39;49;00m,pythonic::types::pshape<\u001b[36mlong\u001b[39;49;00m>>>::result_type add0(pythonic::types::ndarray<\u001b[36muint32_t\u001b[39;49;00m,pythonic::types::pshape<\u001b[36mlong\u001b[39;49;00m>>&& a, pythonic::types::ndarray<\u001b[36muint32_t\u001b[39;49;00m,pythonic::types::pshape<\u001b[36mlong\u001b[39;49;00m>>&& b) \r\n",
      "{\r\n",
      "  \r\n",
      "                            PyThreadState *_save = PyEval_SaveThread();\r\n",
      "                            \u001b[34mtry\u001b[39;49;00m {\r\n",
      "                                \u001b[34mauto\u001b[39;49;00m res = __pythran_add::add()(a, b);\r\n",
      "                                PyEval_RestoreThread(_save);\r\n",
      "                                \u001b[34mreturn\u001b[39;49;00m res;\r\n",
      "                            }\r\n",
      "                            \u001b[34mcatch\u001b[39;49;00m(...) {\r\n",
      "                                PyEval_RestoreThread(_save);\r\n",
      "                                \u001b[34mthrow\u001b[39;49;00m;\r\n",
      "                            }\r\n",
      "                            ;\r\n",
      "}\r\n",
      "\r\n",
      "\u001b[34mstatic\u001b[39;49;00m PyObject *\r\n",
      "__pythran_wrap_add0(PyObject *self, PyObject *args, PyObject *kw)\r\n",
      "{\r\n",
      "    PyObject* args_obj[\u001b[34m2\u001b[39;49;00m+\u001b[34m1\u001b[39;49;00m];\r\n",
      "    \u001b[36mchar\u001b[39;49;00m \u001b[34mconst\u001b[39;49;00m* keywords[] = {\u001b[33m\"\u001b[39;49;00m\u001b[33ma\u001b[39;49;00m\u001b[33m\"\u001b[39;49;00m,\u001b[33m\"\u001b[39;49;00m\u001b[33mb\u001b[39;49;00m\u001b[33m\"\u001b[39;49;00m, \u001b[34mnullptr\u001b[39;49;00m};\r\n",
      "    \u001b[34mif\u001b[39;49;00m(! PyArg_ParseTupleAndKeywords(args, kw, \u001b[33m\"\u001b[39;49;00m\u001b[33mOO\u001b[39;49;00m\u001b[33m\"\u001b[39;49;00m,\r\n",
      "                                     (\u001b[36mchar\u001b[39;49;00m**)keywords, &args_obj[\u001b[34m0\u001b[39;49;00m], &args_obj[\u001b[34m1\u001b[39;49;00m]))\r\n",
      "        \u001b[34mreturn\u001b[39;49;00m \u001b[34mnullptr\u001b[39;49;00m;\r\n",
      "    \u001b[34mif\u001b[39;49;00m(is_convertible<pythonic::types::ndarray<\u001b[36muint32_t\u001b[39;49;00m,pythonic::types::pshape<\u001b[36mlong\u001b[39;49;00m>>>(args_obj[\u001b[34m0\u001b[39;49;00m]) && is_convertible<pythonic::types::ndarray<\u001b[36muint32_t\u001b[39;49;00m,pythonic::types::pshape<\u001b[36mlong\u001b[39;49;00m>>>(args_obj[\u001b[34m1\u001b[39;49;00m]))\r\n",
      "        \u001b[34mreturn\u001b[39;49;00m to_python(add0(from_python<pythonic::types::ndarray<\u001b[36muint32_t\u001b[39;49;00m,pythonic::types::pshape<\u001b[36mlong\u001b[39;49;00m>>>(args_obj[\u001b[34m0\u001b[39;49;00m]), from_python<pythonic::types::ndarray<\u001b[36muint32_t\u001b[39;49;00m,pythonic::types::pshape<\u001b[36mlong\u001b[39;49;00m>>>(args_obj[\u001b[34m1\u001b[39;49;00m])));\r\n",
      "    \u001b[34melse\u001b[39;49;00m {\r\n",
      "        \u001b[34mreturn\u001b[39;49;00m \u001b[34mnullptr\u001b[39;49;00m;\r\n",
      "    }\r\n",
      "}\r\n",
      "\r\n",
      "            \u001b[34mstatic\u001b[39;49;00m PyObject *\r\n",
      "            __pythran_wrapall_add(PyObject *self, PyObject *args, PyObject *kw)\r\n",
      "            {\r\n",
      "                \u001b[34mreturn\u001b[39;49;00m pythonic::handle_python_exception([self, args, kw]()\r\n",
      "                -> PyObject* {\r\n",
      "\r\n",
      "\u001b[34mif\u001b[39;49;00m(PyObject* obj = __pythran_wrap_add0(self, args, kw))\r\n",
      "    \u001b[34mreturn\u001b[39;49;00m obj;\r\n",
      "PyErr_Clear();\r\n",
      "\r\n",
      "                \u001b[34mreturn\u001b[39;49;00m pythonic::python::raise_invalid_argument(\r\n",
      "                               \u001b[33m\"\u001b[39;49;00m\u001b[33madd\u001b[39;49;00m\u001b[33m\"\u001b[39;49;00m, \u001b[33m\"\u001b[39;49;00m\u001b[33m\\n\u001b[39;49;00m\u001b[33m    - add(uint32[:], uint32[:])\u001b[39;49;00m\u001b[33m\"\u001b[39;49;00m, args, kw);\r\n",
      "                });\r\n",
      "            }\r\n",
      "\r\n",
      "\r\n",
      "\u001b[34mstatic\u001b[39;49;00m PyMethodDef Methods[] = {\r\n",
      "    {\r\n",
      "    \u001b[33m\"\u001b[39;49;00m\u001b[33madd\u001b[39;49;00m\u001b[33m\"\u001b[39;49;00m,\r\n",
      "    (PyCFunction)__pythran_wrapall_add,\r\n",
      "    METH_VARARGS | METH_KEYWORDS,\r\n",
      "    \u001b[33m\"\u001b[39;49;00m\u001b[33mSupported prototypes:\u001b[39;49;00m\u001b[33m\\n\u001b[39;49;00m\u001b[33m\\n\u001b[39;49;00m\u001b[33m    - add(uint32[:], uint32[:])\u001b[39;49;00m\u001b[33m\"\u001b[39;49;00m},\r\n",
      "    {\u001b[36mNULL\u001b[39;49;00m, \u001b[36mNULL\u001b[39;49;00m, \u001b[34m0\u001b[39;49;00m, \u001b[36mNULL\u001b[39;49;00m}\r\n",
      "};\r\n",
      "\r\n",
      "\r\n",
      "\u001b[36m#\u001b[39;49;00m\u001b[36mif PY_MAJOR_VERSION >= 3\u001b[39;49;00m\u001b[36m\u001b[39;49;00m\r\n",
      "  \u001b[34mstatic\u001b[39;49;00m \u001b[34mstruct\u001b[39;49;00m PyModuleDef moduledef = {\r\n",
      "    PyModuleDef_HEAD_INIT,\r\n",
      "    \u001b[33m\"\u001b[39;49;00m\u001b[33madd\u001b[39;49;00m\u001b[33m\"\u001b[39;49;00m,            \u001b[37m/* m_name */\u001b[39;49;00m\r\n",
      "    \u001b[33m\"\u001b[39;49;00m\u001b[33m\"\u001b[39;49;00m,         \u001b[37m/* m_doc */\u001b[39;49;00m\r\n",
      "    -\u001b[34m1\u001b[39;49;00m,                  \u001b[37m/* m_size */\u001b[39;49;00m\r\n",
      "    Methods,             \u001b[37m/* m_methods */\u001b[39;49;00m\r\n",
      "    \u001b[36mNULL\u001b[39;49;00m,                \u001b[37m/* m_reload */\u001b[39;49;00m\r\n",
      "    \u001b[36mNULL\u001b[39;49;00m,                \u001b[37m/* m_traverse */\u001b[39;49;00m\r\n",
      "    \u001b[36mNULL\u001b[39;49;00m,                \u001b[37m/* m_clear */\u001b[39;49;00m\r\n",
      "    \u001b[36mNULL\u001b[39;49;00m,                \u001b[37m/* m_free */\u001b[39;49;00m\r\n",
      "  };\r\n",
      "\u001b[36m#\u001b[39;49;00m\u001b[36mdefine PYTHRAN_RETURN return theModule\u001b[39;49;00m\u001b[36m\u001b[39;49;00m\r\n",
      "\u001b[36m#\u001b[39;49;00m\u001b[36mdefine PYTHRAN_MODULE_INIT(s) PyInit_##s\u001b[39;49;00m\u001b[36m\u001b[39;49;00m\r\n",
      "\u001b[36m#\u001b[39;49;00m\u001b[36melse\u001b[39;49;00m\u001b[36m\u001b[39;49;00m\r\n",
      "\u001b[36m#\u001b[39;49;00m\u001b[36mdefine PYTHRAN_RETURN return\u001b[39;49;00m\u001b[36m\u001b[39;49;00m\r\n",
      "\u001b[36m#\u001b[39;49;00m\u001b[36mdefine PYTHRAN_MODULE_INIT(s) init##s\u001b[39;49;00m\u001b[36m\u001b[39;49;00m\r\n",
      "\u001b[36m#\u001b[39;49;00m\u001b[36mendif\u001b[39;49;00m\u001b[36m\u001b[39;49;00m\r\n",
      "PyMODINIT_FUNC\r\n",
      "\u001b[32mPYTHRAN_MODULE_INIT\u001b[39;49;00m(add)(\u001b[36mvoid\u001b[39;49;00m)\r\n",
      "\u001b[36m#\u001b[39;49;00m\u001b[36mifndef _WIN32\u001b[39;49;00m\u001b[36m\u001b[39;49;00m\r\n",
      "__attribute__ ((visibility(\u001b[33m\"\u001b[39;49;00m\u001b[33mdefault\u001b[39;49;00m\u001b[33m\"\u001b[39;49;00m)))\r\n",
      "__attribute__ ((externally_visible))\r\n",
      "\u001b[36m#\u001b[39;49;00m\u001b[36mendif\u001b[39;49;00m\u001b[36m\u001b[39;49;00m\r\n",
      ";\r\n",
      "PyMODINIT_FUNC\r\n",
      "\u001b[32mPYTHRAN_MODULE_INIT\u001b[39;49;00m(add)(\u001b[36mvoid\u001b[39;49;00m) {\r\n",
      "    import_array()\r\n",
      "    \u001b[36m#\u001b[39;49;00m\u001b[36mif PY_MAJOR_VERSION >= 3\u001b[39;49;00m\u001b[36m\u001b[39;49;00m\r\n",
      "    PyObject* theModule = PyModule_Create(&moduledef);\r\n",
      "    \u001b[36m#\u001b[39;49;00m\u001b[36melse\u001b[39;49;00m\u001b[36m\u001b[39;49;00m\r\n",
      "    PyObject* theModule = Py_InitModule3(\u001b[33m\"\u001b[39;49;00m\u001b[33madd\u001b[39;49;00m\u001b[33m\"\u001b[39;49;00m,\r\n",
      "                                         Methods,\r\n",
      "                                         \u001b[33m\"\u001b[39;49;00m\u001b[33m\"\u001b[39;49;00m\r\n",
      "    );\r\n",
      "    \u001b[36m#\u001b[39;49;00m\u001b[36mendif\u001b[39;49;00m\u001b[36m\u001b[39;49;00m\r\n",
      "    \u001b[34mif\u001b[39;49;00m(! theModule)\r\n",
      "        PYTHRAN_RETURN;\r\n",
      "    PyObject * theDoc = Py_BuildValue(\u001b[33m\"\u001b[39;49;00m\u001b[33m(sss)\u001b[39;49;00m\u001b[33m\"\u001b[39;49;00m,\r\n",
      "                                      \u001b[33m\"\u001b[39;49;00m\u001b[33m0.8.7\u001b[39;49;00m\u001b[33m\"\u001b[39;49;00m,\r\n",
      "                                      \u001b[33m\"\u001b[39;49;00m\u001b[33m2018-10-16 20:45:10.642763\u001b[39;49;00m\u001b[33m\"\u001b[39;49;00m,\r\n",
      "                                      \u001b[33m\"\u001b[39;49;00m\u001b[33m13c8ea93a9596bd36b9d7a9d9abc2bf05e1a4b76cd35093cf910c0c4e96a2644\u001b[39;49;00m\u001b[33m\"\u001b[39;49;00m);\r\n",
      "    \u001b[34mif\u001b[39;49;00m(! theDoc)\r\n",
      "        PYTHRAN_RETURN;\r\n",
      "    PyModule_AddObject(theModule,\r\n",
      "                       \u001b[33m\"\u001b[39;49;00m\u001b[33m__pythran__\u001b[39;49;00m\u001b[33m\"\u001b[39;49;00m,\r\n",
      "                       theDoc);\r\n",
      "\r\n",
      "\r\n",
      "    PYTHRAN_RETURN;\r\n",
      "}\r\n",
      "\r\n",
      "\u001b[36m#\u001b[39;49;00m\u001b[36mendif\u001b[39;49;00m\u001b[36m\u001b[39;49;00m\r\n"
     ]
    }
   ],
   "source": [
    "!pygmentize add.cpp"
   ]
  },
  {
   "cell_type": "code",
   "execution_count": 11,
   "metadata": {},
   "outputs": [
    {
     "name": "stdout",
     "output_type": "stream",
     "text": [
      "\u001b[1madd.cpp:120:17: \u001b[0m\u001b[0;1;35mwarning: \u001b[0m\u001b[1munknown attribute 'externally_visible' ignored\n",
      "      [-Wunknown-attributes]\u001b[0m\n",
      "__attribute__ ((externally_visible))\n",
      "\u001b[0;1;32m                ^\n",
      "\u001b[0m1 warning generated.\n"
     ]
    }
   ],
   "source": [
    "!clang++-4.0  add.cpp -Rpass=loop-vectorize -DNDEBUG -O2  -march=native  -fPIC -DENABLE_PYTHON_MODULE -D__PYTHRAN__=3 -I/home/aguinet/.virtualenvs/fixcompilerbug/lib/python3.6/site-packages/pythran -I/home/aguinet/.virtualenvs/fixcompilerbug/lib/python3.6/site-packages/pythran -I/home/aguinet/.virtualenvs/fixcompilerbug/lib/python3.6/site-packages/numpy/core/include -I/usr/local/include -I/usr/include -I/home/aguinet/.virtualenvs/fixcompilerbug/include -I/home/aguinet/.virtualenvs/fixcompilerbug/lib/python3.6/site-packages/numpy/core/include -I/usr/local/include -I/usr/include -I/home/aguinet/.virtualenvs/fixcompilerbug/include -I/usr/include/python3.6m -I/home/aguinet/.virtualenvs/fixcompilerbug/include/python3.6m  -std=c++11 -c -o /dev/null"
   ]
  },
  {
   "cell_type": "code",
   "execution_count": 12,
   "metadata": {},
   "outputs": [
    {
     "name": "stdout",
     "output_type": "stream",
     "text": [
      "\u001b[1madd.cpp:120:17: \u001b[0m\u001b[0;1;35mwarning: \u001b[0m\u001b[1munknown attribute 'externally_visible' ignored\n",
      "      [-Wunknown-attributes]\u001b[0m\n",
      "__attribute__ ((externally_visible))\n",
      "\u001b[0;1;32m                ^\n",
      "\u001b[0mIn file included from add.cpp:10:\n",
      "In file included from /home/aguinet/.virtualenvs/fixcompilerbug/lib/python3.6/site-packages/pythran/pythonic/include/types/ndarray.hpp:35:\n",
      "\u001b[1m/home/aguinet/.virtualenvs/fixcompilerbug/lib/python3.6/site-packages/pythran/pythonic/include/types/numpy_expr.hpp:24:20: \u001b[0m\u001b[0;1;34mremark: \u001b[0m\u001b[1m\n",
      "      loop not vectorized: value that could not be identified as reduction is\n",
      "      used outside the loop [-Rpass-analysis=loop-vectorize]\u001b[0m\n",
      "      return Op{}(*std::get<I>(iters)...);\n",
      "\u001b[0;1;32m                   ^\n",
      "\u001b[0mIn file included from add.cpp:2:\n",
      "In file included from /home/aguinet/.virtualenvs/fixcompilerbug/lib/python3.6/site-packages/pythran/pythonic/core.hpp:20:\n",
      "In file included from /home/aguinet/.virtualenvs/fixcompilerbug/lib/python3.6/site-packages/pythran/pythonic/types/combined.hpp:4:\n",
      "In file included from /home/aguinet/.virtualenvs/fixcompilerbug/lib/python3.6/site-packages/pythran/pythonic/include/types/combined.hpp:4:\n",
      "In file included from /home/aguinet/.virtualenvs/fixcompilerbug/lib/python3.6/site-packages/pythran/pythonic/include/types/traits.hpp:4:\n",
      "In file included from /usr/bin/../lib/gcc/x86_64-linux-gnu/8/../../../../include/c++/8/complex:45:\n",
      "In file included from /usr/bin/../lib/gcc/x86_64-linux-gnu/8/../../../../include/c++/8/sstream:38:\n",
      "In file included from /usr/bin/../lib/gcc/x86_64-linux-gnu/8/../../../../include/c++/8/istream:38:\n",
      "In file included from /usr/bin/../lib/gcc/x86_64-linux-gnu/8/../../../../include/c++/8/ios:40:\n",
      "In file included from /usr/bin/../lib/gcc/x86_64-linux-gnu/8/../../../../include/c++/8/bits/char_traits.h:39:\n",
      "\u001b[1m/usr/bin/../lib/gcc/x86_64-linux-gnu/8/../../../../include/c++/8/bits/stl_algobase.h:322:4: \u001b[0m\u001b[0;1;34mremark: \u001b[0m\u001b[1m\n",
      "      loop not vectorized [-Rpass-missed=loop-vectorize]\u001b[0m\n",
      "          for(_Distance __n = __last - __first; __n > 0; --__n)\n",
      "\u001b[0;1;32m          ^\n",
      "\u001b[0m\u001b[1m/usr/bin/../lib/gcc/x86_64-linux-gnu/8/../../../../include/c++/8/bits/stl_algobase.h:368:6: \u001b[0m\u001b[0;1;34mremark: \u001b[0m\u001b[1m\n",
      "      loop not vectorized: control flow cannot be substituted for a select\n",
      "      [-Rpass-analysis=loop-vectorize]\u001b[0m\n",
      "            __builtin_memmove(__result, __first, sizeof(_Tp) * _Num);\n",
      "\u001b[0;1;32m            ^\n",
      "\u001b[0mIn file included from add.cpp:11:\n",
      "In file included from /home/aguinet/.virtualenvs/fixcompilerbug/lib/python3.6/site-packages/pythran/pythonic/types/ndarray.hpp:16:\n",
      "\u001b[1m/home/aguinet/.virtualenvs/fixcompilerbug/lib/python3.6/site-packages/pythran/pythonic/utils/broadcast_copy.hpp:77:9: \u001b[0m\u001b[0;1;34mremark: \u001b[0m\u001b[1m\n",
      "      loop not vectorized [-Rpass-missed=loop-vectorize]\u001b[0m\n",
      "        for (long i = other_size; i < self_size; i += other_size)\n",
      "\u001b[0;1;32m        ^\n",
      "\u001b[0mIn file included from add.cpp:10:\n",
      "In file included from /home/aguinet/.virtualenvs/fixcompilerbug/lib/python3.6/site-packages/pythran/pythonic/include/types/ndarray.hpp:35:\n",
      "\u001b[1m/home/aguinet/.virtualenvs/fixcompilerbug/lib/python3.6/site-packages/pythran/pythonic/include/types/numpy_expr.hpp:24:20: \u001b[0m\u001b[0;1;34mremark: \u001b[0m\u001b[1m\n",
      "      loop not vectorized: value that could not be identified as reduction is\n",
      "      used outside the loop [-Rpass-analysis=loop-vectorize]\u001b[0m\n",
      "      return Op{}(*std::get<I>(iters)...);\n",
      "\u001b[0;1;32m                   ^\n",
      "\u001b[0mIn file included from add.cpp:2:\n",
      "In file included from /home/aguinet/.virtualenvs/fixcompilerbug/lib/python3.6/site-packages/pythran/pythonic/core.hpp:20:\n",
      "In file included from /home/aguinet/.virtualenvs/fixcompilerbug/lib/python3.6/site-packages/pythran/pythonic/types/combined.hpp:4:\n",
      "In file included from /home/aguinet/.virtualenvs/fixcompilerbug/lib/python3.6/site-packages/pythran/pythonic/include/types/combined.hpp:4:\n",
      "In file included from /home/aguinet/.virtualenvs/fixcompilerbug/lib/python3.6/site-packages/pythran/pythonic/include/types/traits.hpp:4:\n",
      "In file included from /usr/bin/../lib/gcc/x86_64-linux-gnu/8/../../../../include/c++/8/complex:45:\n",
      "In file included from /usr/bin/../lib/gcc/x86_64-linux-gnu/8/../../../../include/c++/8/sstream:38:\n",
      "In file included from /usr/bin/../lib/gcc/x86_64-linux-gnu/8/../../../../include/c++/8/istream:38:\n",
      "In file included from /usr/bin/../lib/gcc/x86_64-linux-gnu/8/../../../../include/c++/8/ios:40:\n",
      "In file included from /usr/bin/../lib/gcc/x86_64-linux-gnu/8/../../../../include/c++/8/bits/char_traits.h:39:\n",
      "\u001b[1m/usr/bin/../lib/gcc/x86_64-linux-gnu/8/../../../../include/c++/8/bits/stl_algobase.h:322:4: \u001b[0m\u001b[0;1;34mremark: \u001b[0m\u001b[1m\n",
      "      loop not vectorized [-Rpass-missed=loop-vectorize]\u001b[0m\n",
      "          for(_Distance __n = __last - __first; __n > 0; --__n)\n",
      "\u001b[0;1;32m          ^\n",
      "\u001b[0m\u001b[1m/usr/bin/../lib/gcc/x86_64-linux-gnu/8/../../../../include/c++/8/bits/stl_algobase.h:368:6: \u001b[0m\u001b[0;1;34mremark: \u001b[0m\u001b[1m\n",
      "      loop not vectorized: control flow cannot be substituted for a select\n",
      "      [-Rpass-analysis=loop-vectorize]\u001b[0m\n",
      "            __builtin_memmove(__result, __first, sizeof(_Tp) * _Num);\n",
      "\u001b[0;1;32m            ^\n",
      "\u001b[0mIn file included from add.cpp:11:\n",
      "In file included from /home/aguinet/.virtualenvs/fixcompilerbug/lib/python3.6/site-packages/pythran/pythonic/types/ndarray.hpp:16:\n",
      "\u001b[1m/home/aguinet/.virtualenvs/fixcompilerbug/lib/python3.6/site-packages/pythran/pythonic/utils/broadcast_copy.hpp:77:9: \u001b[0m\u001b[0;1;34mremark: \u001b[0m\u001b[1m\n",
      "      loop not vectorized [-Rpass-missed=loop-vectorize]\u001b[0m\n",
      "        for (long i = other_size; i < self_size; i += other_size)\n",
      "\u001b[0;1;32m        ^\n",
      "\u001b[0mIn file included from add.cpp:2:\n",
      "In file included from /home/aguinet/.virtualenvs/fixcompilerbug/lib/python3.6/site-packages/pythran/pythonic/core.hpp:22:\n",
      "In file included from /home/aguinet/.virtualenvs/fixcompilerbug/lib/python3.6/site-packages/pythran/pythonic/types/int.hpp:4:\n",
      "In file included from /home/aguinet/.virtualenvs/fixcompilerbug/lib/python3.6/site-packages/pythran/pythonic/include/types/int.hpp:6:\n",
      "\u001b[1m/home/aguinet/.virtualenvs/fixcompilerbug/lib/python3.6/site-packages/pythran/pythonic/python/core.hpp:141:5: \u001b[0m\u001b[0;1;34mremark: \u001b[0m\u001b[1m\n",
      "      loop not vectorized: loop control flow is not understood by vectorizer\n",
      "      [-Rpass-analysis=loop-vectorize]\u001b[0m\n",
      "    for (long n = PyTuple_GET_SIZE(args), i = 0; i < n; ++i) {\n",
      "\u001b[0;1;32m    ^\n",
      "\u001b[0m\u001b[1m/home/aguinet/.virtualenvs/fixcompilerbug/lib/python3.6/site-packages/pythran/pythonic/python/core.hpp:141:5: \u001b[0m\u001b[0;1;34mremark: \u001b[0m\u001b[1m\n",
      "      loop not vectorized [-Rpass-missed=loop-vectorize]\u001b[0m\n",
      "\u001b[1m/home/aguinet/.virtualenvs/fixcompilerbug/lib/python3.6/site-packages/pythran/pythonic/python/core.hpp:151:7: \u001b[0m\u001b[0;1;34mremark: \u001b[0m\u001b[1m\n",
      "      loop not vectorized: loop control flow is not understood by vectorizer\n",
      "      [-Rpass-analysis=loop-vectorize]\u001b[0m\n",
      "      for (int next = PyDict_Next(kwargs, &pos, &key, &value); next;) {\n",
      "\u001b[0;1;32m      ^\n",
      "\u001b[0m\u001b[1m/home/aguinet/.virtualenvs/fixcompilerbug/lib/python3.6/site-packages/pythran/pythonic/python/core.hpp:151:7: \u001b[0m\u001b[0;1;34mremark: \u001b[0m\u001b[1m\n",
      "      loop not vectorized [-Rpass-missed=loop-vectorize]\u001b[0m\n",
      "In file included from add.cpp:11:\n",
      "In file included from /home/aguinet/.virtualenvs/fixcompilerbug/lib/python3.6/site-packages/pythran/pythonic/types/ndarray.hpp:10:\n",
      "In file included from /home/aguinet/.virtualenvs/fixcompilerbug/lib/python3.6/site-packages/pythran/pythonic/__builtin__/ValueError.hpp:6:\n",
      "In file included from /home/aguinet/.virtualenvs/fixcompilerbug/lib/python3.6/site-packages/pythran/pythonic/types/exceptions.hpp:7:\n",
      "\u001b[1m/home/aguinet/.virtualenvs/fixcompilerbug/lib/python3.6/site-packages/pythran/pythonic/types/list.hpp:334:7: \u001b[0m\u001b[0;1;34mremark: \u001b[0m\u001b[1m\n",
      "      loop not vectorized: loop control flow is not understood by vectorizer\n",
      "      [-Rpass-analysis=loop-vectorize]\u001b[0m\n",
      "      while (iter + 1 != v.end())\n",
      "\u001b[0;1;32m      ^\n",
      "\u001b[0m\u001b[1m/home/aguinet/.virtualenvs/fixcompilerbug/lib/python3.6/site-packages/pythran/pythonic/types/list.hpp:334:7: \u001b[0m\u001b[0;1;34mremark: \u001b[0m\u001b[1m\n",
      "      loop not vectorized [-Rpass-missed=loop-vectorize]\u001b[0m\n",
      "In file included from add.cpp:2:\n",
      "In file included from /home/aguinet/.virtualenvs/fixcompilerbug/lib/python3.6/site-packages/pythran/pythonic/core.hpp:22:\n",
      "In file included from /home/aguinet/.virtualenvs/fixcompilerbug/lib/python3.6/site-packages/pythran/pythonic/types/int.hpp:4:\n",
      "In file included from /home/aguinet/.virtualenvs/fixcompilerbug/lib/python3.6/site-packages/pythran/pythonic/include/types/int.hpp:6:\n",
      "\u001b[1m/home/aguinet/.virtualenvs/fixcompilerbug/lib/python3.6/site-packages/pythran/pythonic/python/core.hpp:64:11: \u001b[0m\u001b[0;1;34mremark: \u001b[0m\u001b[1m\n",
      "      loop not vectorized: control flow cannot be substituted for a select\n",
      "      [-Rpass-analysis=loop-vectorize]\u001b[0m\n",
      "          oss << \", \";\n",
      "\u001b[0;1;32m          ^\n",
      "\u001b[0m\u001b[1m/home/aguinet/.virtualenvs/fixcompilerbug/lib/python3.6/site-packages/pythran/pythonic/python/core.hpp:61:7: \u001b[0m\u001b[0;1;34mremark: \u001b[0m\u001b[1m\n",
      "      loop not vectorized [-Rpass-missed=loop-vectorize]\u001b[0m\n",
      "      for (long n = PyTuple_GET_SIZE(obj), i = 0; i < n; ++i) {\n",
      "\u001b[0;1;32m      ^\n",
      "\u001b[0m\u001b[1m/home/aguinet/.virtualenvs/fixcompilerbug/lib/python3.6/site-packages/pythran/pythonic/python/core.hpp:79:11: \u001b[0m\u001b[0;1;34mremark: \u001b[0m\u001b[1m\n",
      "      loop not vectorized: control flow cannot be substituted for a select\n",
      "      [-Rpass-analysis=loop-vectorize]\u001b[0m\n",
      "          oss << \", \";\n",
      "\u001b[0;1;32m          ^\n",
      "\u001b[0m\u001b[1m/home/aguinet/.virtualenvs/fixcompilerbug/lib/python3.6/site-packages/pythran/pythonic/python/core.hpp:76:7: \u001b[0m\u001b[0;1;34mremark: \u001b[0m\u001b[1m\n",
      "      loop not vectorized [-Rpass-missed=loop-vectorize]\u001b[0m\n",
      "      for (int i = 0, n = PyArray_NDIM(arr); i < n; ++i) {\n",
      "\u001b[0;1;32m      ^\n",
      "\u001b[0m\u001b[1m/home/aguinet/.virtualenvs/fixcompilerbug/lib/python3.6/site-packages/pythran/pythonic/python/core.hpp:92:9: \u001b[0m\u001b[0;1;34mremark: \u001b[0m\u001b[1m\n",
      "      loop not vectorized: loop control flow is not understood by vectorizer\n",
      "      [-Rpass-analysis=loop-vectorize]\u001b[0m\n",
      "        for (long i = PyArray_NDIM(arr) - 1; i >= 0; i--) {\n",
      "\u001b[0;1;32m        ^\n",
      "\u001b[0m\u001b[1m/home/aguinet/.virtualenvs/fixcompilerbug/lib/python3.6/site-packages/pythran/pythonic/python/core.hpp:92:9: \u001b[0m\u001b[0;1;34mremark: \u001b[0m\u001b[1m\n",
      "      loop not vectorized [-Rpass-missed=loop-vectorize]\u001b[0m\n"
     ]
    },
    {
     "name": "stdout",
     "output_type": "stream",
     "text": [
      "1 warning generated.\r\n"
     ]
    }
   ],
   "source": [
    "!clang++-4.0  add.cpp -Rpass=loop-vectorize -Rpass-missed=loop-vectorize -Rpass-analysis=loop-vectorize -DNDEBUG -O2  -march=native  -fPIC -DENABLE_PYTHON_MODULE -D__PYTHRAN__=3 -I/home/aguinet/.virtualenvs/fixcompilerbug/lib/python3.6/site-packages/pythran -I/home/aguinet/.virtualenvs/fixcompilerbug/lib/python3.6/site-packages/pythran -I/home/aguinet/.virtualenvs/fixcompilerbug/lib/python3.6/site-packages/numpy/core/include -I/usr/local/include -I/usr/include -I/home/aguinet/.virtualenvs/fixcompilerbug/include -I/home/aguinet/.virtualenvs/fixcompilerbug/lib/python3.6/site-packages/numpy/core/include -I/usr/local/include -I/usr/include -I/home/aguinet/.virtualenvs/fixcompilerbug/include -I/usr/include/python3.6m -I/home/aguinet/.virtualenvs/fixcompilerbug/include/python3.6m  -std=c++11 -c -o /dev/null"
   ]
  },
  {
   "cell_type": "code",
   "execution_count": null,
   "metadata": {},
   "outputs": [],
   "source": [
    "# Back to slides"
   ]
  },
  {
   "cell_type": "code",
   "execution_count": 13,
   "metadata": {},
   "outputs": [],
   "source": [
    "%%pythran -O2 -DUSE_BOOST_SIMD \n",
    "#pythran export add_pythran_simd(uint32[],uint32[])\n",
    "def add_pythran_simd(a,b):\n",
    "    return a+b"
   ]
  },
  {
   "cell_type": "code",
   "execution_count": 14,
   "metadata": {},
   "outputs": [
    {
     "name": "stdout",
     "output_type": "stream",
     "text": [
      "42.9 µs ± 272 ns per loop (mean ± std. dev. of 7 runs, 10000 loops each)\n"
     ]
    }
   ],
   "source": [
    "%timeit add_pythran_simd(a,b)"
   ]
  },
  {
   "cell_type": "code",
   "execution_count": null,
   "metadata": {},
   "outputs": [],
   "source": []
  }
 ],
 "metadata": {
  "kernelspec": {
   "display_name": "Python 3",
   "language": "python",
   "name": "python3"
  },
  "language_info": {
   "codemirror_mode": {
    "name": "ipython",
    "version": 3
   },
   "file_extension": ".py",
   "mimetype": "text/x-python",
   "name": "python",
   "nbconvert_exporter": "python",
   "pygments_lexer": "ipython3",
   "version": "3.6.6"
  }
 },
 "nbformat": 4,
 "nbformat_minor": 2
}
